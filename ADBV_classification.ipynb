{
 "cells": [
  {
   "attachments": {},
   "cell_type": "markdown",
   "metadata": {},
   "source": [
    "Link to kaggle dataset - https://www.kaggle.com/datasets/datatattle/covid-19-nlp-text-classification?select=Corona_NLP_train.csv"
   ]
  },
  {
   "cell_type": "code",
   "execution_count": 117,
   "metadata": {
    "colab": {
     "base_uri": "https://localhost:8080/",
     "height": 391
    },
    "id": "yNrJF4RjMv7H",
    "outputId": "6d2f01ac-001c-4c38-fa9f-37037745e0f8"
   },
   "outputs": [
    {
     "name": "stderr",
     "output_type": "stream",
     "text": [
      "[nltk_data] Downloading package stopwords to\n",
      "[nltk_data]     /Users/artemzaharov/nltk_data...\n",
      "[nltk_data]   Package stopwords is already up-to-date!\n",
      "[nltk_data] Downloading package wordnet to\n",
      "[nltk_data]     /Users/artemzaharov/nltk_data...\n",
      "[nltk_data]   Package wordnet is already up-to-date!\n",
      "[nltk_data] Downloading package omw-1.4 to\n",
      "[nltk_data]     /Users/artemzaharov/nltk_data...\n",
      "[nltk_data]   Package omw-1.4 is already up-to-date!\n"
     ]
    },
    {
     "data": {
      "text/plain": [
       "True"
      ]
     },
     "execution_count": 117,
     "metadata": {},
     "output_type": "execute_result"
    }
   ],
   "source": [
    "import re\n",
    "import time\n",
    "import string\n",
    "import numpy as np\n",
    "import pandas as pd\n",
    "from gensim.models import KeyedVectors\n",
    "import gensim.models as gsm\n",
    "from nltk.corpus import stopwords\n",
    "from nltk.stem import WordNetLemmatizer\n",
    "from sklearn.preprocessing import LabelEncoder, MultiLabelBinarizer\n",
    "from sklearn.model_selection import train_test_split\n",
    "import nltk\n",
    "import plotly.express as px\n",
    "from collections import Counter\n",
    "from sklearn.manifold import TSNE\n",
    "from gensim.models import KeyedVectors\n",
    "\n",
    "\n",
    "# Download necessary NLTK resources\n",
    "nltk.download('stopwords')\n",
    "nltk.download('wordnet')\n",
    "nltk.download('omw-1.4')"
   ]
  },
  {
   "attachments": {},
   "cell_type": "markdown",
   "metadata": {},
   "source": [
    "## Preprocessing"
   ]
  },
  {
   "attachments": {},
   "cell_type": "markdown",
   "metadata": {},
   "source": [
    "## Preprocessing Steps\n",
    "\n",
    "The preprocessing function in this notebook is designed to clean, lemmatize, and vectorize text data, as well as extract and vectorize emojis. Below are the detailed steps involved in the preprocessing pipeline:\n",
    "\n",
    "1. **Text Cleaning**:\n",
    "   - The text is converted to lowercase to ensure uniformity.\n",
    "   - Any text within square brackets is removed to eliminate unnecessary content.\n",
    "   - Punctuation marks are stripped from the text.\n",
    "   - Words containing numbers are removed to focus on purely textual data.\n",
    "   - Non-UTF-8 characters, except emojis, are removed.\n",
    "   - Extra whitespace is removed to tidy up the text.\n",
    "\n",
    "2. **Lemmatization**:\n",
    "   - The cleaned text is lemmatized to reduce words to their base or root form, aiding in better understanding and analysis.\n",
    "   - Common stopwords are removed during this process to focus on meaningful words.\n",
    "\n",
    "3. **Emoji Extraction**:\n",
    "   - Emojis are extracted from the original text using a predefined pattern. This helps in understanding the sentiment and emotion conveyed in the text.\n",
    "\n",
    "4. **Label Encoding**:\n",
    "   - Sentiment labels are encoded into numerical values using LabelEncoder, facilitating their use in machine learning models.\n",
    "\n",
    "5. **Text Vectorization**:\n",
    "   - The lemmatized text is vectorized using a pre-trained Word2Vec model. This converts the text into numerical vectors that can be used as input features for machine learning algorithms.\n",
    "\n",
    "6. **Emoji Vectorization**:\n",
    "   - Emojis are vectorized using a pre-trained Emoji2Vec model, similar to the text vectorization process. This helps in incorporating the semantic meaning of emojis into the analysis.\n",
    "\n",
    "7. **Combining Text and Emoji Embeddings**:\n",
    "   - The text and emoji embeddings are combined to form a comprehensive feature set for the machine learning model.\n",
    "\n",
    "8. **Data Splitting**:\n",
    "   - The combined feature set is split into training and testing sets to evaluate the performance of the machine learning model.\n",
    "\n",
    "Throughout the preprocessing pipeline, the time taken for each step is measured and printed, providing insights into the efficiency of the process. The final output of the function includes the training and testing sets ready for model training and evaluation.\n"
   ]
  },
  {
   "cell_type": "code",
   "execution_count": 118,
   "metadata": {},
   "outputs": [],
   "source": [
    "# Define the function to extract emojis\n",
    "def extract_emojis(text):\n",
    "    emoji_pattern = re.compile(pattern=\"[\"\n",
    "        u\"\\U0001F600-\\U0001F64F\"  # emoticons\n",
    "        u\"\\U0001F300-\\U0001F5FF\"  # symbols & pictographs\n",
    "        u\"\\U0001F680-\\U0001F6FF\"  # transport & map symbols\n",
    "        u\"\\U0001F1E0-\\U0001F1FF\"  # flags (iOS)\n",
    "        u\"\\U00002500-\\U00002BEF\"  # chinese char\n",
    "        u\"\\U00002702-\\U000027B0\"\n",
    "        u\"\\U00002702-\\U000027B0\"\n",
    "        u\"\\U000024C2-\\U0001F251\"\n",
    "        u\"\\U0001f926-\\U0001f937\"\n",
    "        u\"\\U00010000-\\U0010ffff\"\n",
    "        u\"\\u2640-\\u2642\"\n",
    "        u\"\\u2600-\\u2B55\"\n",
    "        u\"\\u200d\"\n",
    "        u\"\\u23cf\"\n",
    "        u\"\\u23e9\"\n",
    "        u\"\\u231a\"\n",
    "        u\"\\ufe0f\"  # dingbats\n",
    "        u\"\\u3030\"\n",
    "                          \"]+\", flags=re.UNICODE)\n",
    "    return emoji_pattern.findall(text)\n",
    "\n",
    "def extract_unique_emojis(df):\n",
    "    all_emojis = set()\n",
    "    for emoji_list in df['emojis']:\n",
    "        for emojis in emoji_list:\n",
    "            all_emojis.update(list(emojis))\n",
    "    return list(all_emojis)\n",
    "\n",
    "# Define the function to clean text\n",
    "def clean_text(text):\n",
    "    text = text.lower()  # Convert to lowercase\n",
    "    text = re.sub(r'\\[.*?\\]', '', text)  # Remove text in square brackets\n",
    "    text = re.sub(r'[%s]' % re.escape(string.punctuation), '', text)  # Remove punctuation\n",
    "    text = re.sub(r'\\w*\\d\\w*', '', text)  # Remove words containing numbers\n",
    "    text = re.sub(r'[^\\x00-\\x7F]+', '', text) # Remove all non UTF-8 signs except emojis\n",
    "    text = re.sub(r'\\s+', ' ', text).strip()  # Remove extra whitespace and strip text\n",
    "\n",
    "    return text\n",
    "\n",
    "# Define the function to lemmatize text\n",
    "def lemmatize_text(text):\n",
    "    lemmatizer = WordNetLemmatizer()\n",
    "    words = text.split()\n",
    "    words = [lemmatizer.lemmatize(word) for word in words if word not in (stopwords.words('english')+['this', 'that', 'get', 'got', 'thanks', 'would'])]\n",
    "    return ' '.join(words)\n",
    "\n",
    "# Preprocessing function\n",
    "def preprocess_data(data):\n",
    "    start_time = time.time()\n",
    "\n",
    "    # Text Cleaning\n",
    "    clean_start_time = time.time()\n",
    "    print(\"Cleaning text...\")\n",
    "    data['cleaned_text'] = data['Text'].apply(clean_text)\n",
    "    print(f\"Text cleaned in {time.time() - clean_start_time:.2f} seconds\\n\")\n",
    "\n",
    "    # Lemmatization\n",
    "    lemmatization_start_time = time.time()\n",
    "    print(\"Lemmatizing text...\")\n",
    "    data['lemmatized_text'] = data['cleaned_text'].apply(lemmatize_text)\n",
    "    print(f\"Text lemmatized in {time.time() - lemmatization_start_time:.2f} seconds\\n\")\n",
    "\n",
    "    # Extract Emojis\n",
    "    emoji_extraction_start_time = time.time()\n",
    "    print(\"Extracting emojis...\")\n",
    "    data['emojis'] = data['Text'].apply(extract_emojis)\n",
    "    print(f\"Emojis extracted in {time.time() - emoji_extraction_start_time:.2f} seconds\\n\")\n",
    "\n",
    "    # Encode the target labels\n",
    "    label_encoding_start_time = time.time()\n",
    "    print(\"Encoding labels...\")\n",
    "    label_encoder = LabelEncoder()\n",
    "    data['label'] = label_encoder.fit_transform(data['Sentiment'])\n",
    "    print(f\"Labels encoded in {time.time() - label_encoding_start_time:.2f} seconds\\n\")\n",
    "\n",
    "    # Vectorize the text using Word2Vec\n",
    "    vectorization_start_time = time.time()\n",
    "    print(\"Vectorizing text...\")\n",
    "    word2vec_model = KeyedVectors.load_word2vec_format('ADVB data/GoogleNews-vectors-negative300.bin', binary=True)\n",
    "\n",
    "    def get_word2vec_embeddings(text):\n",
    "        words = text.split()\n",
    "        embeddings = [word2vec_model[word] for word in words if word in word2vec_model]\n",
    "        if embeddings:\n",
    "            return np.mean(embeddings, axis=0)\n",
    "        else:\n",
    "            return np.zeros(300)  # Assuming 300-dimension word vectors\n",
    "\n",
    "    data['text_embeddings'] = data['lemmatized_text'].apply(get_word2vec_embeddings)\n",
    "    print(f\"Text vectorized in {time.time() - vectorization_start_time:.2f} seconds\\n\")\n",
    "\n",
    "    # Vectorize the emojis using Emoji2Vec\n",
    "    emoji_vectorization_start_time = time.time()\n",
    "    print(\"Vectorizing emojis...\")\n",
    "    emoji2vec_model = KeyedVectors.load_word2vec_format('ADVB data/emoji2vec.bin', binary=True)\n",
    "\n",
    "    def get_emoji2vec_embeddings(emojis):\n",
    "        embeddings = [emoji2vec_model[emoji] for emoji in emojis if emoji in emoji2vec_model]\n",
    "        if embeddings:\n",
    "            return np.mean(embeddings, axis=0)\n",
    "        else:\n",
    "            return np.zeros(300)  # Assuming 300-dimension word vectors\n",
    "\n",
    "    data['emoji_embeddings'] = data['emojis'].apply(get_emoji2vec_embeddings)\n",
    "    print(f\"Emojis one-hot encoded in {time.time() - emoji_vectorization_start_time:.2f} seconds\\n\")\n",
    "\n",
    "    # Combine text and emoji embeddings\n",
    "    X = np.hstack((np.vstack(data['text_embeddings']), np.vstack(data['emoji_embeddings'])))\n",
    "    y = data['label']\n",
    "\n",
    "    # Split the data into training and testing sets\n",
    "    splitting_start_time = time.time()\n",
    "    print(\"Splitting data...\")\n",
    "    X_train, X_test, y_train, y_test = train_test_split(X, y, test_size=0.2, random_state=42)\n",
    "    print(f\"Data split in {time.time() - splitting_start_time:.2f} seconds\\n\")\n",
    "\n",
    "    # Display the shapes of the train and test sets\n",
    "    print(f'Training set shape: {X_train.shape}')\n",
    "    print(f'Testing set shape: {X_test.shape}')\n",
    "\n",
    "\n",
    "    total_time = time.time() - start_time\n",
    "    print(f\"\\nTotal time taken: {total_time:.2f} seconds\")\n",
    "\n",
    "    return X_train, X_test, y_train, y_test"
   ]
  },
  {
   "cell_type": "code",
   "execution_count": 119,
   "metadata": {},
   "outputs": [
    {
     "name": "stdout",
     "output_type": "stream",
     "text": [
      "                                                Text  Sentiment\n",
      "0                                    honestly same 😭          0\n",
      "1            @r0yaltantrum @shovelwill bruh moment 😭          0\n",
      "2  My vpn issue is now resolved but I wanna read ...          1\n",
      "3  I thought Wendy's injuries were just bearable ...          0\n",
      "4  Before Korea nukes us, does anybody want to fi...          0\n",
      "Cleaning text...\n",
      "Text cleaned in 0.07 seconds\n",
      "\n",
      "Lemmatizing text...\n",
      "Text lemmatized in 2.17 seconds\n",
      "\n",
      "Extracting emojis...\n",
      "Emojis extracted in 0.01 seconds\n",
      "\n",
      "Encoding labels...\n",
      "Labels encoded in 0.00 seconds\n",
      "\n",
      "Vectorizing text...\n",
      "Text vectorized in 18.68 seconds\n",
      "\n",
      "Vectorizing emojis...\n",
      "Emojis one-hot encoded in 0.11 seconds\n",
      "\n",
      "Splitting data...\n",
      "Data split in 0.03 seconds\n",
      "\n",
      "Training set shape: (2468, 600)\n",
      "Testing set shape: (617, 600)\n",
      "\n",
      "Total time taken: 21.09 seconds\n"
     ]
    }
   ],
   "source": [
    "# Read the dataset\n",
    "data_path = 'ADVB data/dataset_16_emojifinal.csv'\n",
    "data = pd.read_csv(data_path)\n",
    "\n",
    "print(data.head())\n",
    "\n",
    "# Preprocess the data\n",
    "X_train, X_test, y_train, y_test = preprocess_data(data)"
   ]
  },
  {
   "attachments": {},
   "cell_type": "markdown",
   "metadata": {},
   "source": [
    "## Tests"
   ]
  },
  {
   "cell_type": "code",
   "execution_count": 120,
   "metadata": {},
   "outputs": [
    {
     "name": "stdout",
     "output_type": "stream",
     "text": [
      "Shape of train: (2468, 600)\n",
      "Shape of test: (617, 600)\n"
     ]
    }
   ],
   "source": [
    "print(\"Shape of train:\", X_train.shape)\n",
    "print(\"Shape of test:\", X_test.shape)"
   ]
  },
  {
   "cell_type": "code",
   "execution_count": 121,
   "metadata": {},
   "outputs": [
    {
     "name": "stdout",
     "output_type": "stream",
     "text": [
      "Sparsity of text vectors in the training dataset: 14.31%\n",
      "Sparsity of text vectors in the test dataset: 15.49%\n"
     ]
    }
   ],
   "source": [
    "import numpy as np\n",
    "\n",
    "# Assume that text vectors and emoji vectors have a dimension of 300\n",
    "text_vector_size = 300\n",
    "\n",
    "# Separate the matrix into text vectors and emoji vectors\n",
    "text_vectors_train = X_train\n",
    "text_vectors_test = X_test\n",
    "\n",
    "# Calculate sparsity only for text vectors in X_train\n",
    "num_zeros_text_train = np.sum(text_vectors_train == 0)\n",
    "total_elements_text_train = text_vectors_train.size\n",
    "\n",
    "sparsity_text_train = num_zeros_text_train / total_elements_text_train * 100\n",
    "\n",
    "# Calculate sparsity only for text vectors in X_test\n",
    "num_zeros_text_test = np.sum(text_vectors_test == 0)\n",
    "total_elements_text_test = text_vectors_test.size\n",
    "\n",
    "sparsity_text_test = num_zeros_text_test / total_elements_text_test * 100\n",
    "# print(sparsity_text_train)\n",
    "# print(sparsity_text_test)\n",
    "print(f\"Sparsity of text vectors in the training dataset: {sparsity_text_train:.2f}%\")\n",
    "print(f\"Sparsity of text vectors in the test dataset: {sparsity_text_test:.2f}%\")\n"
   ]
  },
  {
   "attachments": {},
   "cell_type": "markdown",
   "metadata": {},
   "source": [
    "## Sparsity Calculation of Text Vectors\n",
    "\n",
    "In this section, we calculate the sparsity of text vectors in both the training and testing datasets. Sparsity refers to the proportion of zero elements in the vectors, which can give us insights into the density and informativeness of our feature vectors.\n",
    "\n",
    "### Code Explanation\n",
    "\n",
    "1. **Assumption of Vector Dimensions**:\n",
    "   - We assume that both text vectors and emoji vectors have a dimension of 300.\n",
    "\n",
    "2. **Separating the Matrices**:\n",
    "   - We separate the combined feature matrix into text vectors for both the training (`X_train`) and testing (`X_test`) datasets.\n",
    "\n",
    "3. **Sparsity Calculation for Training Data**:\n",
    "   - We count the number of zero elements in the text vectors of the training dataset.\n",
    "   - We calculate the total number of elements in the training text vectors.\n",
    "   - Sparsity is computed as the ratio of zero elements to the total number of elements, expressed as a percentage.\n",
    "\n",
    "4. **Sparsity Calculation for Testing Data**:\n",
    "   - Similarly, we count the number of zero elements in the text vectors of the testing dataset.\n",
    "   - We calculate the total number of elements in the testing text vectors.\n",
    "   - Sparsity is computed as the ratio of zero elements to the total number of elements, expressed as a percentage.\n",
    "\n",
    "### Results\n",
    "\n",
    "- **Sparsity of text vectors in the training dataset**: 14.31%\n",
    "- **Sparsity of text vectors in the test dataset**: 15.49%\n",
    "\n",
    "These results indicate that approximately 14.31% of the elements in the training text vectors are zeros, and 15.49% of the elements in the testing text vectors are zeros. This level of sparsity suggests that our text vectors contain a reasonable amount of information, with a significant portion of non-zero elements.\n"
   ]
  },
  {
   "cell_type": "code",
   "execution_count": 122,
   "metadata": {},
   "outputs": [
    {
     "name": "stdout",
     "output_type": "stream",
     "text": [
      "Number of zero vectors in X_train: 36\n",
      "Number of zero vectors in X_test: 6\n"
     ]
    }
   ],
   "source": [
    "num_zero_vectors_train = np.sum(np.all(X_train == 0, axis=1))\n",
    "num_zero_vectors_test = np.sum(np.all(X_test == 0, axis=1))\n",
    "\n",
    "print(\"Number of zero vectors in X_train:\", num_zero_vectors_train)\n",
    "print(\"Number of zero vectors in X_test:\", num_zero_vectors_test)"
   ]
  },
  {
   "attachments": {},
   "cell_type": "markdown",
   "metadata": {},
   "source": [
    "This code counts the number of zero vectors in the Word2Vec embeddings for the training and testing datasets. Zero vectors indicate instances where none of the words in the text were found in the Word2Vec model. The output shows 36 zero vectors in the training set and 6 zero vectors in the test set, suggesting a potential limitation in the Word2Vec vocabulary coverage.\n"
   ]
  },
  {
   "cell_type": "code",
   "execution_count": 123,
   "metadata": {},
   "outputs": [
    {
     "name": "stdout",
     "output_type": "stream",
     "text": [
      "Training set - Mean: -0.0005331953202991598 Standard Deviation: 0.08150448419791295\n",
      "Testing set - Mean: -0.0006040416361097618 Standard Deviation: 0.08246779233211933\n"
     ]
    }
   ],
   "source": [
    "train_mean = np.mean(X_train)\n",
    "train_std = np.std(X_train)\n",
    "test_mean = np.mean(X_test)\n",
    "test_std = np.std(X_test)\n",
    "\n",
    "print(\"Training set - Mean:\", train_mean, \"Standard Deviation:\", train_std)\n",
    "print(\"Testing set - Mean:\", test_mean, \"Standard Deviation:\", test_std)"
   ]
  },
  {
   "attachments": {},
   "cell_type": "markdown",
   "metadata": {},
   "source": [
    " The mean values close to zero and relatively small standard deviations indicate that the embedding values are centered around zero with a narrow spread. This distribution is typical for embeddings and shows that the **vectors are balanced and normalized**."
   ]
  },
  {
   "cell_type": "code",
   "execution_count": 124,
   "metadata": {},
   "outputs": [
    {
     "data": {
      "image/png": "[encoded data removed]",
      "text/plain": [
       "<Figure size 640x480 with 1 Axes>"
      ]
     },
     "metadata": {},
     "output_type": "display_data"
    }
   ],
   "source": [
    "import matplotlib.pyplot as plt\n",
    "\n",
    "plt.hist(X_train.flatten(), bins=50, alpha=0.6, color='b', label='X_train')\n",
    "plt.hist(X_test.flatten(), bins=50, alpha=0.6, color='r', label='X_test')\n",
    "plt.xlabel('Embedding Values')\n",
    "plt.ylabel('Frequency')\n",
    "plt.title('Distribution of Embedding Values')\n",
    "plt.legend()\n",
    "plt.show()"
   ]
  },
  {
   "attachments": {},
   "cell_type": "markdown",
   "metadata": {},
   "source": [
    "The histogram visualizes the distribution of embedding values for the training and testing datasets. The x-axis represents the embedding values, while the y-axis shows their frequency. \n",
    "\n",
    "- The blue bars represent the distribution of embedding values in the training set (`X_train`).\n",
    "- The red bars represent the distribution of embedding values in the testing set (`X_test`).\n",
    "\n",
    "From the histogram, we can observe that both distributions are centered around zero and have a similar shape. This indicates that the embedding values are consistently distributed between the training and testing datasets, supporting the findings from the mean and standard deviation calculations.\n"
   ]
  },
  {
   "cell_type": "code",
   "execution_count": 125,
   "metadata": {},
   "outputs": [],
   "source": [
    "from sklearn.manifold import TSNE\n",
    "import gensim\n",
    "\n",
    "model = gensim.models.KeyedVectors.load_word2vec_format('ADVB data/GoogleNews-vectors-negative300.bin', binary=True)"
   ]
  },
  {
   "cell_type": "code",
   "execution_count": 126,
   "metadata": {},
   "outputs": [
    {
     "data": {
      "application/vnd.plotly.v1+json": {
       "config": {
        "plotlyServerURL": "https://plot.ly"
       },
       "data": [
        {
         "hovertemplate": "Dimension 1=%{x}<br>Dimension 2=%{y}<br>text=%{text}<extra></extra>",
         "legendgroup": "",
         "marker": {
          "color": "#636efa",
          "opacity": 1,
          "size": 5,
          "symbol": "circle"
         },
         "mode": "markers+text",
         "name": "",
         "orientation": "v",
         "showlegend": false,
         "text": [
          "im",
          "christmas",
          "love",
          "u",
          "like",
          "dont",
          "thank",
          "day",
          "one",
          "happy",
          "good",
          "year",
          "want",
          "know",
          "time",
          "new",
          "hope",
          "see",
          "merry",
          "really",
          "much",
          "amp",
          "miss",
          "need",
          "back",
          "make",
          "yes",
          "today",
          "family",
          "thats",
          "still",
          "baby",
          "youre",
          "cant",
          "look",
          "say",
          "go",
          "well",
          "best",
          "right",
          "man",
          "even",
          "people",
          "oh",
          "cute",
          "ive",
          "always",
          "think",
          "feel",
          "first",
          "wanna",
          "great",
          "shit",
          "made",
          "wait",
          "never",
          "could",
          "everyone",
          "friend",
          "sorry",
          "gonna",
          "ill",
          "thing",
          "holiday",
          "yall",
          "kid",
          "birthday",
          "work",
          "hate",
          "let",
          "next",
          "going",
          "take",
          "also",
          "said",
          "last",
          "way",
          "gift",
          "check",
          "he",
          "beautiful",
          "follow",
          "another",
          "two",
          "something",
          "getting",
          "lot",
          "pretty",
          "morning",
          "ur",
          "girl",
          "sad",
          "guy",
          "better",
          "sleep",
          "lol",
          "nice",
          "home",
          "as",
          "😭",
          "😢",
          "😬",
          "🙁",
          "😘",
          "😍",
          "😤",
          "😚",
          "😄",
          "😠",
          "😁",
          "😀",
          "😃",
          "😡",
          "😂",
          "❤️",
          "🖕",
          "💜",
          "🤣",
          "🔥",
          "👍",
          "😋",
          "🔞",
          "🖤",
          "🤔",
          "🎄",
          "🎉",
          "💗",
          "😒",
          "🙏",
          "😌",
          "😔",
          "♥️",
          "🙂",
          "😫",
          "😊",
          "💙",
          "✅",
          "🤗",
          "🙌",
          "🎊",
          "🙄",
          "📱",
          "💎",
          "💕",
          "😪",
          "🤕",
          "☺️",
          "💖",
          "😇",
          "⛄️",
          "🎁",
          "😆",
          "📷",
          "🎂",
          "🚩",
          "💚",
          "😥",
          "😩",
          "😉",
          "👄",
          "🍑",
          "😎",
          "👉"
         ],
         "type": "scatter",
         "x": [
          -7.146177768707275,
          -6.305507659912109,
          -3.435391426086426,
          -7.7715044021606445,
          3.0761845111846924,
          -6.489713668823242,
          -1.6288267374038696,
          -3.3226776123046875,
          -1.1295758485794067,
          -0.262859970331192,
          8.508703231811523,
          -4.192509651184082,
          0.09666716307401657,
          1.0148931741714478,
          -3.1180763244628906,
          -3.0499086380004883,
          1.0090422630310059,
          2.1455204486846924,
          -1.4834315776824951,
          5.616757392883301,
          4.674411296844482,
          -5.243983745574951,
          1.040094256401062,
          0.07780188322067261,
          3.449802875518799,
          2.7676727771759033,
          -2.7709364891052246,
          -1.9530378580093384,
          -6.034586429595947,
          -6.749710559844971,
          2.8222944736480713,
          3.2111752033233643,
          -6.498449802398682,
          -6.3637471199035645,
          2.43437123298645,
          0.7063649296760559,
          5.563268661499023,
          7.170454978942871,
          7.856215476989746,
          0.9195690751075745,
          4.772253513336182,
          3.8765084743499756,
          -0.16998572647571564,
          -3.719395160675049,
          -2.088076591491699,
          -7.792573928833008,
          5.990462779998779,
          1.0523133277893066,
          3.6227521896362305,
          -6.114216327667236,
          -4.689271926879883,
          8.483661651611328,
          -5.0329108238220215,
          2.7657153606414795,
          2.263645648956299,
          6.392531871795654,
          3.8125643730163574,
          5.228185176849365,
          -7.234211444854736,
          -0.5072977542877197,
          -4.551814556121826,
          2.357957601547241,
          4.553114891052246,
          -5.944947242736816,
          -6.999939918518066,
          5.847216606140137,
          -4.6495208740234375,
          2.502859592437744,
          -3.738229274749756,
          -3.6128392219543457,
          -5.797216415405273,
          5.33350133895874,
          5.992393970489502,
          -0.0803593173623085,
          1.6814613342285156,
          -6.066922187805176,
          2.152588367462158,
          -5.229636192321777,
          1.5627878904342651,
          2.7093353271484375,
          -3.0940921306610107,
          0.8616794943809509,
          -1.4214317798614502,
          -0.6281685829162598,
          4.854919910430908,
          4.4317450523376465,
          5.529138088226318,
          6.015153408050537,
          -3.3018150329589844,
          -7.797364711761475,
          4.814388275146484,
          0.014051523990929127,
          5.844232559204102,
          8.831926345825195,
          3.3776416778564453,
          -7.059017658233643,
          8.53422737121582,
          4.497622013092041,
          7.1408514976501465,
          0.2503405809402466,
          0.29674696922302246,
          1.113924264907837,
          2.0159947872161865,
          -1.8044334650039673,
          -1.4830238819122314,
          1.345674753189087,
          -1.8204662799835205,
          -0.940480649471283,
          1.142626404762268,
          0.14947229623794556,
          -0.8361350893974304,
          -0.5876300930976868,
          0.6099693775177002,
          -0.17549505829811096,
          -1.8702088594436646,
          1.0190064907073975,
          -1.1211671829223633,
          -4.700968265533447,
          -2.794999837875366,
          1.4445182085037231,
          -1.8265849351882935,
          -1.146754503250122,
          -1.843207597732544,
          -2.9761195182800293,
          -5.222431182861328,
          -3.6836845874786377,
          -1.8403774499893188,
          1.3725765943527222,
          -0.22440309822559357,
          1.6493998765945435,
          0.5829051733016968,
          -1.7361711263656616,
          2.1372439861297607,
          2.570082664489746,
          -0.8569119572639465,
          -1.1338393688201904,
          1.3962998390197754,
          -1.049406886100769,
          -0.5997903347015381,
          -3.7593908309936523,
          0.915402352809906,
          -5.2613677978515625,
          -4.35750675201416,
          -1.3338801860809326,
          2.502614974975586,
          1.4469330310821533,
          -0.4997292160987854,
          -1.963735580444336,
          -0.8319352865219116,
          -4.87067174911499,
          -4.44290018081665,
          -0.49939921498298645,
          -5.313153266906738,
          -4.161390781402588,
          -3.1910152435302734,
          -1.7598799467086792,
          0.7982468605041504,
          2.7722394466400146,
          -0.9030852913856506,
          -1.902058482170105,
          -2.530991554260254,
          -1.7362289428710938,
          1.1467546224594116
         ],
         "xaxis": "x",
         "y": [
          -3.959672451019287,
          0.9756092429161072,
          0.10375005751848221,
          -4.971461772918701,
          2.986856698989868,
          -4.781450271606445,
          -5.571515083312988,
          6.371982574462891,
          5.2323222160339355,
          -3.219987630844116,
          1.5734302997589111,
          4.943455219268799,
          7.908022880554199,
          -6.115418434143066,
          5.723271369934082,
          4.154074668884277,
          6.155795574188232,
          -6.429409503936768,
          -3.246509075164795,
          3.413285493850708,
          1.7567529678344727,
          -1.8397941589355469,
          -3.277402639389038,
          7.9447174072265625,
          -0.554040789604187,
          8.673903465270996,
          -3.9851980209350586,
          4.327470302581787,
          3.4531519412994385,
          -4.595103740692139,
          0.5438339710235596,
          -4.810469150543213,
          -3.186884641647339,
          -4.8133344650268555,
          -6.627330780029297,
          -6.3905487060546875,
          -0.09166029840707779,
          -2.5808284282684326,
          0.7185537815093994,
          3.02119779586792,
          -4.031038761138916,
          1.4455450773239136,
          2.21351957321167,
          -4.296302318572998,
          -2.4748425483703613,
          -4.010476589202881,
          4.623387813568115,
          -5.9681806564331055,
          6.163026809692383,
          6.14708137512207,
          -6.438858509063721,
          1.7160975933074951,
          -6.188920497894287,
          8.677618026733398,
          -3.850233316421509,
          4.844701766967773,
          1.4338406324386597,
          5.062900543212891,
          2.8044939041137695,
          -4.441318035125732,
          -6.526815891265869,
          -2.5955429077148438,
          3.988861083984375,
          1.3986022472381592,
          -5.907332897186279,
          -6.288364410400391,
          3.5250980854034424,
          4.466378211975098,
          -0.2966286540031433,
          -2.7762033939361572,
          6.583474159240723,
          0.1557665914297104,
          -0.7236500382423401,
          3.6057186126708984,
          1.6263588666915894,
          6.22048807144165,
          2.8209164142608643,
          2.5742340087890625,
          4.408897876739502,
          1.7774463891983032,
          -1.478299617767334,
          4.699147701263428,
          5.732822418212891,
          5.300669193267822,
          3.920069694519043,
          0.16481465101242065,
          2.368051290512085,
          3.273425817489624,
          6.831782817840576,
          -5.09561824798584,
          -4.167000770568848,
          -4.258230209350586,
          -6.28618860244751,
          0.8991596698760986,
          -2.1484179496765137,
          -4.771975994110107,
          2.135942220687866,
          -2.0478098392486572,
          -2.576043128967285,
          -0.1656806468963623,
          -0.051789622753858566,
          -1.5363420248031616,
          0.5106523036956787,
          0.6100635528564453,
          0.5958086848258972,
          -0.6792026162147522,
          0.7370731234550476,
          -1.3896571397781372,
          -1.159253716468811,
          -1.2594486474990845,
          -1.3522770404815674,
          -1.3469184637069702,
          -0.37146812677383423,
          -0.6871315240859985,
          1.3734666109085083,
          2.144786834716797,
          2.287323236465454,
          -1.9170128107070923,
          0.7588708996772766,
          2.4613444805145264,
          -1.570543646812439,
          4.380343914031982,
          2.2062032222747803,
          1.6771382093429565,
          1.234748363494873,
          2.4792299270629883,
          2.697944402694702,
          -1.5183595418930054,
          1.117583990097046,
          -0.42434579133987427,
          0.5045099854469299,
          2.193148136138916,
          0.5599685907363892,
          -1.448128342628479,
          -1.349629282951355,
          2.434455156326294,
          4.06647253036499,
          -0.5897369384765625,
          1.0251855850219727,
          2.956958055496216,
          1.3035874366760254,
          -1.039136528968811,
          1.4555683135986328,
          1.7987875938415527,
          -1.458052158355713,
          -2.097694158554077,
          -1.2813169956207275,
          2.1278445720672607,
          0.35345950722694397,
          0.702968955039978,
          2.721471071243286,
          -1.5392500162124634,
          -0.8919861316680908,
          2.701498508453369,
          3.169032335281372,
          1.2775357961654663,
          -2.5913288593292236,
          -1.4845645427703857,
          -2.1368582248687744,
          -0.10738889127969742,
          -0.5129916667938232,
          -1.1575086116790771,
          2.5233209133148193
         ],
         "yaxis": "y"
        }
       ],
       "layout": {
        "legend": {
         "tracegroupgap": 0
        },
        "margin": {
         "t": 60
        },
        "plot_bgcolor": "white",
        "template": {
         "data": {
          "bar": [
           {
            "error_x": {
             "color": "#2a3f5f"
            },
            "error_y": {
             "color": "#2a3f5f"
            },
            "marker": {
             "line": {
              "color": "#E5ECF6",
              "width": 0.5
             },
             "pattern": {
              "fillmode": "overlay",
              "size": 10,
              "solidity": 0.2
             }
            },
            "type": "bar"
           }
          ],
          "barpolar": [
           {
            "marker": {
             "line": {
              "color": "#E5ECF6",
              "width": 0.5
             },
             "pattern": {
              "fillmode": "overlay",
              "size": 10,
              "solidity": 0.2
             }
            },
            "type": "barpolar"
           }
          ],
          "carpet": [
           {
            "aaxis": {
             "endlinecolor": "#2a3f5f",
             "gridcolor": "white",
             "linecolor": "white",
             "minorgridcolor": "white",
             "startlinecolor": "#2a3f5f"
            },
            "baxis": {
             "endlinecolor": "#2a3f5f",
             "gridcolor": "white",
             "linecolor": "white",
             "minorgridcolor": "white",
             "startlinecolor": "#2a3f5f"
            },
            "type": "carpet"
           }
          ],
          "choropleth": [
           {
            "colorbar": {
             "outlinewidth": 0,
             "ticks": ""
            },
            "type": "choropleth"
           }
          ],
          "contour": [
           {
            "colorbar": {
             "outlinewidth": 0,
             "ticks": ""
            },
            "colorscale": [
             [
              0,
              "#0d0887"
             ],
             [
              0.1111111111111111,
              "#46039f"
             ],
             [
              0.2222222222222222,
              "#7201a8"
             ],
             [
              0.3333333333333333,
              "#9c179e"
             ],
             [
              0.4444444444444444,
              "#bd3786"
             ],
             [
              0.5555555555555556,
              "#d8576b"
             ],
             [
              0.6666666666666666,
              "#ed7953"
             ],
             [
              0.7777777777777778,
              "#fb9f3a"
             ],
             [
              0.8888888888888888,
              "#fdca26"
             ],
             [
              1,
              "#f0f921"
             ]
            ],
            "type": "contour"
           }
          ],
          "contourcarpet": [
           {
            "colorbar": {
             "outlinewidth": 0,
             "ticks": ""
            },
            "type": "contourcarpet"
           }
          ],
          "heatmap": [
           {
            "colorbar": {
             "outlinewidth": 0,
             "ticks": ""
            },
            "colorscale": [
             [
              0,
              "#0d0887"
             ],
             [
              0.1111111111111111,
              "#46039f"
             ],
             [
              0.2222222222222222,
              "#7201a8"
             ],
             [
              0.3333333333333333,
              "#9c179e"
             ],
             [
              0.4444444444444444,
              "#bd3786"
             ],
             [
              0.5555555555555556,
              "#d8576b"
             ],
             [
              0.6666666666666666,
              "#ed7953"
             ],
             [
              0.7777777777777778,
              "#fb9f3a"
             ],
             [
              0.8888888888888888,
              "#fdca26"
             ],
             [
              1,
              "#f0f921"
             ]
            ],
            "type": "heatmap"
           }
          ],
          "heatmapgl": [
           {
            "colorbar": {
             "outlinewidth": 0,
             "ticks": ""
            },
            "colorscale": [
             [
              0,
              "#0d0887"
             ],
             [
              0.1111111111111111,
              "#46039f"
             ],
             [
              0.2222222222222222,
              "#7201a8"
             ],
             [
              0.3333333333333333,
              "#9c179e"
             ],
             [
              0.4444444444444444,
              "#bd3786"
             ],
             [
              0.5555555555555556,
              "#d8576b"
             ],
             [
              0.6666666666666666,
              "#ed7953"
             ],
             [
              0.7777777777777778,
              "#fb9f3a"
             ],
             [
              0.8888888888888888,
              "#fdca26"
             ],
             [
              1,
              "#f0f921"
             ]
            ],
            "type": "heatmapgl"
           }
          ],
          "histogram": [
           {
            "marker": {
             "pattern": {
              "fillmode": "overlay",
              "size": 10,
              "solidity": 0.2
             }
            },
            "type": "histogram"
           }
          ],
          "histogram2d": [
           {
            "colorbar": {
             "outlinewidth": 0,
             "ticks": ""
            },
            "colorscale": [
             [
              0,
              "#0d0887"
             ],
             [
              0.1111111111111111,
              "#46039f"
             ],
             [
              0.2222222222222222,
              "#7201a8"
             ],
             [
              0.3333333333333333,
              "#9c179e"
             ],
             [
              0.4444444444444444,
              "#bd3786"
             ],
             [
              0.5555555555555556,
              "#d8576b"
             ],
             [
              0.6666666666666666,
              "#ed7953"
             ],
             [
              0.7777777777777778,
              "#fb9f3a"
             ],
             [
              0.8888888888888888,
              "#fdca26"
             ],
             [
              1,
              "#f0f921"
             ]
            ],
            "type": "histogram2d"
           }
          ],
          "histogram2dcontour": [
           {
            "colorbar": {
             "outlinewidth": 0,
             "ticks": ""
            },
            "colorscale": [
             [
              0,
              "#0d0887"
             ],
             [
              0.1111111111111111,
              "#46039f"
             ],
             [
              0.2222222222222222,
              "#7201a8"
             ],
             [
              0.3333333333333333,
              "#9c179e"
             ],
             [
              0.4444444444444444,
              "#bd3786"
             ],
             [
              0.5555555555555556,
              "#d8576b"
             ],
             [
              0.6666666666666666,
              "#ed7953"
             ],
             [
              0.7777777777777778,
              "#fb9f3a"
             ],
             [
              0.8888888888888888,
              "#fdca26"
             ],
             [
              1,
              "#f0f921"
             ]
            ],
            "type": "histogram2dcontour"
           }
          ],
          "mesh3d": [
           {
            "colorbar": {
             "outlinewidth": 0,
             "ticks": ""
            },
            "type": "mesh3d"
           }
          ],
          "parcoords": [
           {
            "line": {
             "colorbar": {
              "outlinewidth": 0,
              "ticks": ""
             }
            },
            "type": "parcoords"
           }
          ],
          "pie": [
           {
            "automargin": true,
            "type": "pie"
           }
          ],
          "scatter": [
           {
            "fillpattern": {
             "fillmode": "overlay",
             "size": 10,
             "solidity": 0.2
            },
            "type": "scatter"
           }
          ],
          "scatter3d": [
           {
            "line": {
             "colorbar": {
              "outlinewidth": 0,
              "ticks": ""
             }
            },
            "marker": {
             "colorbar": {
              "outlinewidth": 0,
              "ticks": ""
             }
            },
            "type": "scatter3d"
           }
          ],
          "scattercarpet": [
           {
            "marker": {
             "colorbar": {
              "outlinewidth": 0,
              "ticks": ""
             }
            },
            "type": "scattercarpet"
           }
          ],
          "scattergeo": [
           {
            "marker": {
             "colorbar": {
              "outlinewidth": 0,
              "ticks": ""
             }
            },
            "type": "scattergeo"
           }
          ],
          "scattergl": [
           {
            "marker": {
             "colorbar": {
              "outlinewidth": 0,
              "ticks": ""
             }
            },
            "type": "scattergl"
           }
          ],
          "scattermapbox": [
           {
            "marker": {
             "colorbar": {
              "outlinewidth": 0,
              "ticks": ""
             }
            },
            "type": "scattermapbox"
           }
          ],
          "scatterpolar": [
           {
            "marker": {
             "colorbar": {
              "outlinewidth": 0,
              "ticks": ""
             }
            },
            "type": "scatterpolar"
           }
          ],
          "scatterpolargl": [
           {
            "marker": {
             "colorbar": {
              "outlinewidth": 0,
              "ticks": ""
             }
            },
            "type": "scatterpolargl"
           }
          ],
          "scatterternary": [
           {
            "marker": {
             "colorbar": {
              "outlinewidth": 0,
              "ticks": ""
             }
            },
            "type": "scatterternary"
           }
          ],
          "surface": [
           {
            "colorbar": {
             "outlinewidth": 0,
             "ticks": ""
            },
            "colorscale": [
             [
              0,
              "#0d0887"
             ],
             [
              0.1111111111111111,
              "#46039f"
             ],
             [
              0.2222222222222222,
              "#7201a8"
             ],
             [
              0.3333333333333333,
              "#9c179e"
             ],
             [
              0.4444444444444444,
              "#bd3786"
             ],
             [
              0.5555555555555556,
              "#d8576b"
             ],
             [
              0.6666666666666666,
              "#ed7953"
             ],
             [
              0.7777777777777778,
              "#fb9f3a"
             ],
             [
              0.8888888888888888,
              "#fdca26"
             ],
             [
              1,
              "#f0f921"
             ]
            ],
            "type": "surface"
           }
          ],
          "table": [
           {
            "cells": {
             "fill": {
              "color": "#EBF0F8"
             },
             "line": {
              "color": "white"
             }
            },
            "header": {
             "fill": {
              "color": "#C8D4E3"
             },
             "line": {
              "color": "white"
             }
            },
            "type": "table"
           }
          ]
         },
         "layout": {
          "annotationdefaults": {
           "arrowcolor": "#2a3f5f",
           "arrowhead": 0,
           "arrowwidth": 1
          },
          "autotypenumbers": "strict",
          "coloraxis": {
           "colorbar": {
            "outlinewidth": 0,
            "ticks": ""
           }
          },
          "colorscale": {
           "diverging": [
            [
             0,
             "#8e0152"
            ],
            [
             0.1,
             "#c51b7d"
            ],
            [
             0.2,
             "#de77ae"
            ],
            [
             0.3,
             "#f1b6da"
            ],
            [
             0.4,
             "#fde0ef"
            ],
            [
             0.5,
             "#f7f7f7"
            ],
            [
             0.6,
             "#e6f5d0"
            ],
            [
             0.7,
             "#b8e186"
            ],
            [
             0.8,
             "#7fbc41"
            ],
            [
             0.9,
             "#4d9221"
            ],
            [
             1,
             "#276419"
            ]
           ],
           "sequential": [
            [
             0,
             "#0d0887"
            ],
            [
             0.1111111111111111,
             "#46039f"
            ],
            [
             0.2222222222222222,
             "#7201a8"
            ],
            [
             0.3333333333333333,
             "#9c179e"
            ],
            [
             0.4444444444444444,
             "#bd3786"
            ],
            [
             0.5555555555555556,
             "#d8576b"
            ],
            [
             0.6666666666666666,
             "#ed7953"
            ],
            [
             0.7777777777777778,
             "#fb9f3a"
            ],
            [
             0.8888888888888888,
             "#fdca26"
            ],
            [
             1,
             "#f0f921"
            ]
           ],
           "sequentialminus": [
            [
             0,
             "#0d0887"
            ],
            [
             0.1111111111111111,
             "#46039f"
            ],
            [
             0.2222222222222222,
             "#7201a8"
            ],
            [
             0.3333333333333333,
             "#9c179e"
            ],
            [
             0.4444444444444444,
             "#bd3786"
            ],
            [
             0.5555555555555556,
             "#d8576b"
            ],
            [
             0.6666666666666666,
             "#ed7953"
            ],
            [
             0.7777777777777778,
             "#fb9f3a"
            ],
            [
             0.8888888888888888,
             "#fdca26"
            ],
            [
             1,
             "#f0f921"
            ]
           ]
          },
          "colorway": [
           "#636efa",
           "#EF553B",
           "#00cc96",
           "#ab63fa",
           "#FFA15A",
           "#19d3f3",
           "#FF6692",
           "#B6E880",
           "#FF97FF",
           "#FECB52"
          ],
          "font": {
           "color": "#2a3f5f"
          },
          "geo": {
           "bgcolor": "white",
           "lakecolor": "white",
           "landcolor": "#E5ECF6",
           "showlakes": true,
           "showland": true,
           "subunitcolor": "white"
          },
          "hoverlabel": {
           "align": "left"
          },
          "hovermode": "closest",
          "mapbox": {
           "style": "light"
          },
          "paper_bgcolor": "white",
          "plot_bgcolor": "#E5ECF6",
          "polar": {
           "angularaxis": {
            "gridcolor": "white",
            "linecolor": "white",
            "ticks": ""
           },
           "bgcolor": "#E5ECF6",
           "radialaxis": {
            "gridcolor": "white",
            "linecolor": "white",
            "ticks": ""
           }
          },
          "scene": {
           "xaxis": {
            "backgroundcolor": "#E5ECF6",
            "gridcolor": "white",
            "gridwidth": 2,
            "linecolor": "white",
            "showbackground": true,
            "ticks": "",
            "zerolinecolor": "white"
           },
           "yaxis": {
            "backgroundcolor": "#E5ECF6",
            "gridcolor": "white",
            "gridwidth": 2,
            "linecolor": "white",
            "showbackground": true,
            "ticks": "",
            "zerolinecolor": "white"
           },
           "zaxis": {
            "backgroundcolor": "#E5ECF6",
            "gridcolor": "white",
            "gridwidth": 2,
            "linecolor": "white",
            "showbackground": true,
            "ticks": "",
            "zerolinecolor": "white"
           }
          },
          "shapedefaults": {
           "line": {
            "color": "#2a3f5f"
           }
          },
          "ternary": {
           "aaxis": {
            "gridcolor": "white",
            "linecolor": "white",
            "ticks": ""
           },
           "baxis": {
            "gridcolor": "white",
            "linecolor": "white",
            "ticks": ""
           },
           "bgcolor": "#E5ECF6",
           "caxis": {
            "gridcolor": "white",
            "linecolor": "white",
            "ticks": ""
           }
          },
          "title": {
           "x": 0.05
          },
          "xaxis": {
           "automargin": true,
           "gridcolor": "white",
           "linecolor": "white",
           "ticks": "",
           "title": {
            "standoff": 15
           },
           "zerolinecolor": "white",
           "zerolinewidth": 2
          },
          "yaxis": {
           "automargin": true,
           "gridcolor": "white",
           "linecolor": "white",
           "ticks": "",
           "title": {
            "standoff": 15
           },
           "zerolinecolor": "white",
           "zerolinewidth": 2
          }
         }
        },
        "title": {
         "text": "t-SNE Visualization of Most Frequent Words and Emojis"
        },
        "xaxis": {
         "anchor": "y",
         "domain": [
          0,
          1
         ],
         "gridcolor": "lightgrey",
         "gridwidth": 1,
         "linecolor": "black",
         "linewidth": 1,
         "showgrid": true,
         "showline": true,
         "title": {
          "text": "Dimension 1"
         },
         "zeroline": true,
         "zerolinecolor": "lightgrey",
         "zerolinewidth": 1
        },
        "yaxis": {
         "anchor": "x",
         "domain": [
          0,
          1
         ],
         "gridcolor": "lightgrey",
         "gridwidth": 1,
         "linecolor": "black",
         "linewidth": 1,
         "showgrid": true,
         "showline": true,
         "title": {
          "text": "Dimension 2"
         },
         "zeroline": true,
         "zerolinecolor": "lightgrey",
         "zerolinewidth": 1
        }
       }
      }
     },
     "metadata": {},
     "output_type": "display_data"
    }
   ],
   "source": [
    "def extract_all_emojis(df):\n",
    "    all_emojis = []\n",
    "    for emoji_list in df['emojis']:\n",
    "        for emojis in emoji_list:\n",
    "            all_emojis.append(emojis)\n",
    "    return list(all_emojis)\n",
    "\n",
    "\n",
    "words = [word for text in data['lemmatized_text'] for word in text.split()]\n",
    "\n",
    "# Count word frequencies\n",
    "word_counts = Counter(words)\n",
    "\n",
    "# Select the most frequent words\n",
    "N = 100  # Number of most frequent words to select\n",
    "most_common_words = word_counts.most_common(N)\n",
    "most_common_words = [word for word, count in most_common_words]\n",
    "\n",
    "# Extract embeddings for the most frequent words\n",
    "word2vec_model = KeyedVectors.load_word2vec_format('ADVB data/GoogleNews-vectors-negative300.bin', binary=True)\n",
    "word_embeddings = {word: word2vec_model[word] for word in most_common_words if word in word2vec_model}\n",
    "\n",
    "# Extract emoji frequencies\n",
    "emojis = extract_all_emojis(data)\n",
    "emoji_counts = Counter(emojis)\n",
    "\n",
    "# Select the most frequent emojis\n",
    "most_common_emojis = emoji_counts.most_common(N)\n",
    "most_common_emojis = [emoji for emoji, count in most_common_emojis]\n",
    "\n",
    "# Extract embeddings for the most frequent emojis\n",
    "emoji2vec_model = KeyedVectors.load_word2vec_format('ADVB data/emoji2vec.bin', binary=True)\n",
    "emoji_embeddings = {emoji: emoji2vec_model[emoji] for emoji in most_common_emojis if emoji in emoji2vec_model}\n",
    "\n",
    "# Combine word and emoji embeddings\n",
    "combined_embeddings = {**word_embeddings, **emoji_embeddings}\n",
    "\n",
    "# Prepare data for t-SNE\n",
    "labels = list(combined_embeddings.keys())\n",
    "embeddings = np.array(list(combined_embeddings.values()))\n",
    "\n",
    "# Perform t-SNE\n",
    "tsne = TSNE(n_components=2, random_state=42)\n",
    "X_embedded = tsne.fit_transform(embeddings)\n",
    "\n",
    "# Create the scatter plot\n",
    "fig = px.scatter(None, x=X_embedded[:,0], y=X_embedded[:,1], \n",
    "                 labels={\n",
    "                     \"x\": \"Dimension 1\",\n",
    "                     \"y\": \"Dimension 2\",\n",
    "                 },\n",
    "                 text=labels,  # Add text labels\n",
    "                 opacity=1)\n",
    "\n",
    "# Change the plot background color\n",
    "fig.update_layout(dict(plot_bgcolor='white'))\n",
    "\n",
    "# Update the axis lines\n",
    "fig.update_xaxes(showgrid=True, gridwidth=1, gridcolor='lightgrey', \n",
    "                 zeroline=True, zerolinewidth=1, zerolinecolor='lightgrey', \n",
    "                 showline=True, linewidth=1, linecolor='black')\n",
    "\n",
    "fig.update_yaxes(showgrid=True, gridwidth=1, gridcolor='lightgrey', \n",
    "                 zeroline=True, zerolinewidth=1, zerolinecolor='lightgrey', \n",
    "                 showline=True, linewidth=1, linecolor='black')\n",
    "\n",
    "# Set the plot title\n",
    "fig.update_layout(title_text=\"t-SNE Visualization of Most Frequent Words and Emojis\")\n",
    "\n",
    "# Update the marker size\n",
    "fig.update_traces(marker=dict(size=5))\n",
    "\n",
    "fig.show()"
   ]
  },
  {
   "attachments": {},
   "cell_type": "markdown",
   "metadata": {},
   "source": [
    "### t-SNE Visualization of Most Frequent Words and Emojis\n",
    "\n",
    "In this section, we performed t-SNE (t-Distributed Stochastic Neighbor Embedding) to visualize the relationships between the most frequent words and emojis in the dataset. The goal was to identify which words and emojis are closely related in the embedding space.\n",
    "\n",
    "#### Key Steps:\n",
    "1. **Word and Emoji Frequency Extraction**:\n",
    "   - We extracted the most frequent words from the lemmatized text.\n",
    "   - Similarly, we extracted the most frequent emojis from the dataset.\n",
    "\n",
    "2. **Embedding Extraction**:\n",
    "   - We used pre-trained Word2Vec and Emoji2Vec models to obtain embeddings for the most frequent words and emojis.\n",
    "\n",
    "3. **t-SNE Embedding**:\n",
    "   - We combined the embeddings of words and emojis.\n",
    "   - We applied t-SNE to reduce the high-dimensional embeddings to two dimensions for visualization.\n",
    "\n",
    "4. **Scatter Plot**:\n",
    "   - We plotted the t-SNE results, where each point represents a word or an emoji.\n",
    "   - The plot helps us see which words and emojis form clusters, indicating semantic similarities.\n",
    "\n",
    "#### Observations:\n",
    "- Certain clusters are easily identifiable, such as heart emojis clustering with words related to love.\n",
    "- Similarly, birthday-related emojis cluster with the word \"birthday\".\n",
    "\n",
    "This visualization aids in understanding the semantic relationships and grouping tendencies within the text and emoji data.\n"
   ]
  },
  {
   "attachments": {},
   "cell_type": "markdown",
   "metadata": {},
   "source": [
    " # KNN"
   ]
  },
  {
   "cell_type": "code",
   "execution_count": 127,
   "metadata": {},
   "outputs": [
    {
     "name": "stdout",
     "output_type": "stream",
     "text": [
      "Accuracy: 0.7277\n",
      "Precision: 0.7286\n",
      "Recall: 0.7277\n",
      "F1 Score: 0.7280\n",
      "Confusion Matrix:\n",
      "[[120  12  16  21]\n",
      " [ 17 122   4  17]\n",
      " [ 14   8 107  10]\n",
      " [ 24  18   7 100]]\n"
     ]
    }
   ],
   "source": [
    "from sklearn.neighbors import KNeighborsClassifier\n",
    "from sklearn.metrics import accuracy_score, precision_score, recall_score, f1_score, confusion_matrix\n",
    "\n",
    "# Train KNN classifier\n",
    "knn = KNeighborsClassifier(n_neighbors=4, metric='euclidean')\n",
    "knn.fit(X_train, y_train)\n",
    "\n",
    "# Predict on the test set\n",
    "y_pred = knn.predict(X_test)\n",
    "\n",
    "# Calculate evaluation metrics\n",
    "accuracy = accuracy_score(y_test, y_pred)\n",
    "precision = precision_score(y_test, y_pred, average='weighted')\n",
    "recall = recall_score(y_test, y_pred, average='weighted')\n",
    "f1 = f1_score(y_test, y_pred, average='weighted')\n",
    "conf_matrix = confusion_matrix(y_test, y_pred)\n",
    "\n",
    "# Print evaluation metrics\n",
    "print(f'Accuracy: {accuracy:.4f}')\n",
    "print(f'Precision: {precision:.4f}')\n",
    "print(f'Recall: {recall:.4f}')\n",
    "print(f'F1 Score: {f1:.4f}')\n",
    "print('Confusion Matrix:')\n",
    "print(conf_matrix)"
   ]
  },
  {
   "attachments": {},
   "cell_type": "markdown",
   "metadata": {},
   "source": [
    "# MLP"
   ]
  },
  {
   "cell_type": "code",
   "execution_count": 128,
   "metadata": {},
   "outputs": [
    {
     "name": "stderr",
     "output_type": "stream",
     "text": [
      "/opt/homebrew/lib/python3.11/site-packages/keras/src/layers/core/dense.py:87: UserWarning:\n",
      "\n",
      "Do not pass an `input_shape`/`input_dim` argument to a layer. When using Sequential models, prefer using an `Input(shape)` object as the first layer in the model instead.\n",
      "\n"
     ]
    },
    {
     "name": "stdout",
     "output_type": "stream",
     "text": [
      "Epoch 1/30\n",
      "\u001b[1m62/62\u001b[0m \u001b[32m━━━━━━━━━━━━━━━━━━━━\u001b[0m\u001b[37m\u001b[0m \u001b[1m2s\u001b[0m 6ms/step - accuracy: 0.4699 - loss: 1.1566 - val_accuracy: 0.8077 - val_loss: 0.4654\n",
      "Epoch 2/30\n",
      "\u001b[1m62/62\u001b[0m \u001b[32m━━━━━━━━━━━━━━━━━━━━\u001b[0m\u001b[37m\u001b[0m \u001b[1m0s\u001b[0m 5ms/step - accuracy: 0.8407 - loss: 0.4607 - val_accuracy: 0.8279 - val_loss: 0.4331\n",
      "Epoch 3/30\n",
      "\u001b[1m62/62\u001b[0m \u001b[32m━━━━━━━━━━━━━━━━━━━━\u001b[0m\u001b[37m\u001b[0m \u001b[1m0s\u001b[0m 5ms/step - accuracy: 0.8550 - loss: 0.4180 - val_accuracy: 0.8279 - val_loss: 0.4331\n",
      "Epoch 4/30\n",
      "\u001b[1m62/62\u001b[0m \u001b[32m━━━━━━━━━━━━━━━━━━━━\u001b[0m\u001b[37m\u001b[0m \u001b[1m0s\u001b[0m 5ms/step - accuracy: 0.8680 - loss: 0.3822 - val_accuracy: 0.8158 - val_loss: 0.4258\n",
      "Epoch 5/30\n",
      "\u001b[1m62/62\u001b[0m \u001b[32m━━━━━━━━━━━━━━━━━━━━\u001b[0m\u001b[37m\u001b[0m \u001b[1m0s\u001b[0m 5ms/step - accuracy: 0.8876 - loss: 0.3411 - val_accuracy: 0.8178 - val_loss: 0.4764\n",
      "Epoch 6/30\n",
      "\u001b[1m62/62\u001b[0m \u001b[32m━━━━━━━━━━━━━━━━━━━━\u001b[0m\u001b[37m\u001b[0m \u001b[1m0s\u001b[0m 5ms/step - accuracy: 0.9050 - loss: 0.3040 - val_accuracy: 0.8219 - val_loss: 0.4618\n",
      "Epoch 7/30\n",
      "\u001b[1m62/62\u001b[0m \u001b[32m━━━━━━━━━━━━━━━━━━━━\u001b[0m\u001b[37m\u001b[0m \u001b[1m0s\u001b[0m 5ms/step - accuracy: 0.9103 - loss: 0.2680 - val_accuracy: 0.8158 - val_loss: 0.5040\n",
      "Epoch 8/30\n",
      "\u001b[1m62/62\u001b[0m \u001b[32m━━━━━━━━━━━━━━━━━━━━\u001b[0m\u001b[37m\u001b[0m \u001b[1m1s\u001b[0m 10ms/step - accuracy: 0.9173 - loss: 0.2579 - val_accuracy: 0.8117 - val_loss: 0.5281\n",
      "Epoch 9/30\n",
      "\u001b[1m62/62\u001b[0m \u001b[32m━━━━━━━━━━━━━━━━━━━━\u001b[0m\u001b[37m\u001b[0m \u001b[1m0s\u001b[0m 5ms/step - accuracy: 0.9310 - loss: 0.2122 - val_accuracy: 0.8138 - val_loss: 0.5270\n",
      "Epoch 10/30\n",
      "\u001b[1m62/62\u001b[0m \u001b[32m━━━━━━━━━━━━━━━━━━━━\u001b[0m\u001b[37m\u001b[0m \u001b[1m0s\u001b[0m 5ms/step - accuracy: 0.9283 - loss: 0.2205 - val_accuracy: 0.8036 - val_loss: 0.6249\n",
      "Epoch 11/30\n",
      "\u001b[1m62/62\u001b[0m \u001b[32m━━━━━━━━━━━━━━━━━━━━\u001b[0m\u001b[37m\u001b[0m \u001b[1m0s\u001b[0m 5ms/step - accuracy: 0.9423 - loss: 0.1761 - val_accuracy: 0.8097 - val_loss: 0.5848\n",
      "Epoch 12/30\n",
      "\u001b[1m62/62\u001b[0m \u001b[32m━━━━━━━━━━━━━━━━━━━━\u001b[0m\u001b[37m\u001b[0m \u001b[1m0s\u001b[0m 5ms/step - accuracy: 0.9432 - loss: 0.1663 - val_accuracy: 0.8036 - val_loss: 0.6439\n",
      "Epoch 13/30\n",
      "\u001b[1m62/62\u001b[0m \u001b[32m━━━━━━━━━━━━━━━━━━━━\u001b[0m\u001b[37m\u001b[0m \u001b[1m0s\u001b[0m 5ms/step - accuracy: 0.9352 - loss: 0.1758 - val_accuracy: 0.7996 - val_loss: 0.7202\n",
      "Epoch 14/30\n",
      "\u001b[1m62/62\u001b[0m \u001b[32m━━━━━━━━━━━━━━━━━━━━\u001b[0m\u001b[37m\u001b[0m \u001b[1m0s\u001b[0m 5ms/step - accuracy: 0.9480 - loss: 0.1433 - val_accuracy: 0.8036 - val_loss: 0.6684\n",
      "Epoch 15/30\n",
      "\u001b[1m62/62\u001b[0m \u001b[32m━━━━━━━━━━━━━━━━━━━━\u001b[0m\u001b[37m\u001b[0m \u001b[1m0s\u001b[0m 5ms/step - accuracy: 0.9554 - loss: 0.1309 - val_accuracy: 0.8239 - val_loss: 0.7901\n",
      "Epoch 16/30\n",
      "\u001b[1m62/62\u001b[0m \u001b[32m━━━━━━━━━━━━━━━━━━━━\u001b[0m\u001b[37m\u001b[0m \u001b[1m0s\u001b[0m 5ms/step - accuracy: 0.9684 - loss: 0.0991 - val_accuracy: 0.8036 - val_loss: 0.8584\n",
      "Epoch 17/30\n",
      "\u001b[1m62/62\u001b[0m \u001b[32m━━━━━━━━━━━━━━━━━━━━\u001b[0m\u001b[37m\u001b[0m \u001b[1m0s\u001b[0m 5ms/step - accuracy: 0.9564 - loss: 0.1137 - val_accuracy: 0.8138 - val_loss: 0.7385\n",
      "Epoch 18/30\n",
      "\u001b[1m62/62\u001b[0m \u001b[32m━━━━━━━━━━━━━━━━━━━━\u001b[0m\u001b[37m\u001b[0m \u001b[1m0s\u001b[0m 5ms/step - accuracy: 0.9528 - loss: 0.1386 - val_accuracy: 0.8117 - val_loss: 0.7763\n",
      "Epoch 19/30\n",
      "\u001b[1m62/62\u001b[0m \u001b[32m━━━━━━━━━━━━━━━━━━━━\u001b[0m\u001b[37m\u001b[0m \u001b[1m1s\u001b[0m 8ms/step - accuracy: 0.9734 - loss: 0.0770 - val_accuracy: 0.8219 - val_loss: 0.8266\n",
      "Epoch 20/30\n",
      "\u001b[1m62/62\u001b[0m \u001b[32m━━━━━━━━━━━━━━━━━━━━\u001b[0m\u001b[37m\u001b[0m \u001b[1m0s\u001b[0m 5ms/step - accuracy: 0.9732 - loss: 0.0753 - val_accuracy: 0.8178 - val_loss: 0.8565\n",
      "Epoch 21/30\n",
      "\u001b[1m62/62\u001b[0m \u001b[32m━━━━━━━━━━━━━━━━━━━━\u001b[0m\u001b[37m\u001b[0m \u001b[1m0s\u001b[0m 5ms/step - accuracy: 0.9756 - loss: 0.0597 - val_accuracy: 0.8198 - val_loss: 0.9287\n",
      "Epoch 22/30\n",
      "\u001b[1m62/62\u001b[0m \u001b[32m━━━━━━━━━━━━━━━━━━━━\u001b[0m\u001b[37m\u001b[0m \u001b[1m0s\u001b[0m 5ms/step - accuracy: 0.9671 - loss: 0.0818 - val_accuracy: 0.8158 - val_loss: 0.9112\n",
      "Epoch 23/30\n",
      "\u001b[1m62/62\u001b[0m \u001b[32m━━━━━━━━━━━━━━━━━━━━\u001b[0m\u001b[37m\u001b[0m \u001b[1m0s\u001b[0m 5ms/step - accuracy: 0.9655 - loss: 0.1033 - val_accuracy: 0.7996 - val_loss: 0.9351\n",
      "Epoch 24/30\n",
      "\u001b[1m62/62\u001b[0m \u001b[32m━━━━━━━━━━━━━━━━━━━━\u001b[0m\u001b[37m\u001b[0m \u001b[1m0s\u001b[0m 5ms/step - accuracy: 0.9669 - loss: 0.1033 - val_accuracy: 0.8016 - val_loss: 0.8766\n",
      "Epoch 25/30\n",
      "\u001b[1m62/62\u001b[0m \u001b[32m━━━━━━━━━━━━━━━━━━━━\u001b[0m\u001b[37m\u001b[0m \u001b[1m0s\u001b[0m 5ms/step - accuracy: 0.9709 - loss: 0.0858 - val_accuracy: 0.8036 - val_loss: 0.9865\n",
      "Epoch 26/30\n",
      "\u001b[1m62/62\u001b[0m \u001b[32m━━━━━━━━━━━━━━━━━━━━\u001b[0m\u001b[37m\u001b[0m \u001b[1m0s\u001b[0m 5ms/step - accuracy: 0.9718 - loss: 0.0709 - val_accuracy: 0.8016 - val_loss: 0.9361\n",
      "Epoch 27/30\n",
      "\u001b[1m62/62\u001b[0m \u001b[32m━━━━━━━━━━━━━━━━━━━━\u001b[0m\u001b[37m\u001b[0m \u001b[1m0s\u001b[0m 5ms/step - accuracy: 0.9702 - loss: 0.0829 - val_accuracy: 0.8016 - val_loss: 0.9309\n",
      "Epoch 28/30\n",
      "\u001b[1m62/62\u001b[0m \u001b[32m━━━━━━━━━━━━━━━━━━━━\u001b[0m\u001b[37m\u001b[0m \u001b[1m0s\u001b[0m 5ms/step - accuracy: 0.9796 - loss: 0.0601 - val_accuracy: 0.8158 - val_loss: 1.0252\n",
      "Epoch 29/30\n",
      "\u001b[1m62/62\u001b[0m \u001b[32m━━━━━━━━━━━━━━━━━━━━\u001b[0m\u001b[37m\u001b[0m \u001b[1m1s\u001b[0m 10ms/step - accuracy: 0.9801 - loss: 0.0500 - val_accuracy: 0.8036 - val_loss: 1.0324\n",
      "Epoch 30/30\n",
      "\u001b[1m62/62\u001b[0m \u001b[32m━━━━━━━━━━━━━━━━━━━━\u001b[0m\u001b[37m\u001b[0m \u001b[1m0s\u001b[0m 6ms/step - accuracy: 0.9655 - loss: 0.0852 - val_accuracy: 0.8097 - val_loss: 1.0240\n",
      "\u001b[1m20/20\u001b[0m \u001b[32m━━━━━━━━━━━━━━━━━━━━\u001b[0m\u001b[37m\u001b[0m \u001b[1m0s\u001b[0m 3ms/step\n",
      "Accuracy: 0.7747\n",
      "Precision: 0.7827\n",
      "Recall: 0.7747\n",
      "F1 Score: 0.7748\n",
      "Confusion Matrix:\n",
      "[[126   5  20  18]\n",
      " [ 10 126  14  10]\n",
      " [  6   2 124   7]\n",
      " [ 23   6  18 102]]\n"
     ]
    }
   ],
   "source": [
    "import numpy as np\n",
    "import pandas as pd\n",
    "import tensorflow as tf\n",
    "from sklearn.model_selection import train_test_split\n",
    "from sklearn.metrics import accuracy_score, precision_score, recall_score, f1_score, confusion_matrix\n",
    "\n",
    "# Assuming X_train, X_test, y_train, y_test are already defined and are in vectorized form\n",
    "# Convert pandas Series to numpy arrays if necessary\n",
    "if isinstance(X_train, pd.Series):\n",
    "    X_train = np.array(X_train.tolist())\n",
    "if isinstance(X_test, pd.Series):\n",
    "    X_test = np.array(X_test.tolist())\n",
    "if isinstance(y_train, pd.Series):\n",
    "    y_train = np.array(y_train.tolist())\n",
    "if isinstance(y_test, pd.Series):\n",
    "    y_test = np.array(y_test.tolist())\n",
    "\n",
    "# Define a more complex neural network\n",
    "def create_model(input_dim, num_classes):\n",
    "    model = tf.keras.Sequential([\n",
    "        tf.keras.layers.Dense(512, input_dim=input_dim, activation='relu'),\n",
    "        tf.keras.layers.Dropout(0.3),\n",
    "        tf.keras.layers.Dense(256, input_dim=input_dim, activation='relu'),\n",
    "        tf.keras.layers.Dropout(0.3),\n",
    "        tf.keras.layers.Dense(128, activation='relu'),\n",
    "        tf.keras.layers.Dropout(0.3),\n",
    "        tf.keras.layers.Dense(64, activation='relu'),\n",
    "        tf.keras.layers.Dropout(0.3),\n",
    "        tf.keras.layers.Dense(num_classes, activation='softmax')\n",
    "    ])\n",
    "    model.compile(optimizer='adam', loss='sparse_categorical_crossentropy', metrics=['accuracy'])\n",
    "    return model\n",
    "\n",
    "# Initialize the model\n",
    "input_dim = X_train.shape[1]\n",
    "num_classes = len(np.unique(y_train))\n",
    "model = create_model(input_dim, num_classes)\n",
    "\n",
    "# Train the model\n",
    "num_epochs = 30\n",
    "history = model.fit(X_train, y_train, epochs=num_epochs, batch_size=32, validation_split=0.2)\n",
    "\n",
    "# Evaluate the model\n",
    "y_pred = np.argmax(model.predict(X_test), axis=-1)\n",
    "\n",
    "# Calculate evaluation metrics\n",
    "accuracy = accuracy_score(y_test, y_pred)\n",
    "precision = precision_score(y_test, y_pred, average='weighted')\n",
    "recall = recall_score(y_test, y_pred, average='weighted')\n",
    "f1 = f1_score(y_test, y_pred, average='weighted')\n",
    "conf_matrix = confusion_matrix(y_test, y_pred)\n",
    "\n",
    "# Print evaluation metrics\n",
    "print(f'Accuracy: {accuracy:.4f}')\n",
    "print(f'Precision: {precision:.4f}')\n",
    "print(f'Recall: {recall:.4f}')\n",
    "print(f'F1 Score: {f1:.4f}')\n",
    "print('Confusion Matrix:')\n",
    "print(conf_matrix)\n"
   ]
  },
  {
   "cell_type": "markdown",
   "metadata": {},
   "source": [
    "# BERTweet + Random Forest Classifier"
   ]
  },
  {
   "cell_type": "code",
   "execution_count": 129,
   "metadata": {},
   "outputs": [],
   "source": [
    "# import torch\n",
    "# from transformers import AutoTokenizer, AutoModel\n",
    "# import pandas as pd\n",
    "# from sklearn.model_selection import train_test_split, GridSearchCV\n",
    "# from sklearn.ensemble import RandomForestClassifier\n",
    "# from sklearn.metrics import accuracy_score, precision_recall_fscore_support, confusion_matrix\n",
    "# import nlpaug.augmenter.word as naw\n",
    "# import emoji\n",
    "# import re\n",
    "\n",
    "# # Check data for empty rows or incorrect data\n",
    "# data.dropna(subset=['lemmatized_text', 'Sentiment'], inplace=True)\n",
    "# data = data[data['lemmatized_text'].map(len) > 0]\n",
    "\n",
    "# # Define augmenters\n",
    "# synonym_aug = naw.SynonymAug(aug_src='wordnet')\n",
    "\n",
    "# # Function for text augmentation\n",
    "# def augment_text(text, n=1):\n",
    "#     augmented_texts = [synonym_aug.augment(text) for _ in range(n)]\n",
    "#     return [' '.join(aug) if isinstance(aug, list) else aug for aug in augmented_texts]\n",
    "\n",
    "# # Function to extract emojis from text\n",
    "# def extract_emojis(text):\n",
    "#     emoji_pattern = re.compile(\"[\"\n",
    "#                            u\"\\U0001F600-\\U0001F64F\"  # emoticons\n",
    "#                            u\"\\U0001F300-\\U0001F5FF\"  # symbols & pictographs\n",
    "#                            u\"\\U0001F680-\\U0001F6FF\"  # transport & map symbols\n",
    "#                            u\"\\U0001F1E0-\\U0001F1FF\"  # flags (iOS)\n",
    "#                            u\"\\U00002700-\\U000027BF\"  # dingbats\n",
    "#                            u\"\\U000024C2-\\U0001F251\" \n",
    "#                            \"]+\", flags=re.UNICODE)\n",
    "#     return ''.join(emoji_pattern.findall(text))\n",
    "\n",
    "# # Apply augmentation to increase the dataset three times\n",
    "# augmented_texts = []\n",
    "# augmented_labels = []\n",
    "# augmented_emojis = []\n",
    "\n",
    "# for index, row in data.iterrows():\n",
    "#     # Add original text and emojis\n",
    "#     augmented_texts.append(row['lemmatized_text'])\n",
    "#     augmented_labels.append(row['Sentiment'])\n",
    "#     augmented_emojis.append(extract_emojis(row['lemmatized_text']))\n",
    "#     # Add augmented texts (2 times to increase threefold)\n",
    "#     aug_texts = augment_text(row['lemmatized_text'], n=2)\n",
    "#     augmented_texts.extend(aug_texts)\n",
    "#     augmented_labels.extend([row['Sentiment']] * 2)\n",
    "#     augmented_emojis.extend([extract_emojis(text) for text in aug_texts])\n",
    "\n",
    "# # Create augmented data\n",
    "# augmented_data = pd.DataFrame({\n",
    "#     'lemmatized_text': augmented_texts,\n",
    "#     'Sentiment': augmented_labels,\n",
    "#     'emojis': augmented_emojis\n",
    "# })\n",
    "\n",
    "# # Save augmented data to CSV file\n",
    "# augmented_data.to_csv('augmented_dataset.csv', index=False)\n",
    "\n",
    "# # Load BERTweet tokenizer and model\n",
    "# tokenizer = AutoTokenizer.from_pretrained(\"vinai/bertweet-base\")\n",
    "# model = AutoModel.from_pretrained(\"vinai/bertweet-base\")\n",
    "\n",
    "# # Function to get text embeddings\n",
    "# def get_embeddings(texts, tokenizer, model):\n",
    "#     inputs = tokenizer(texts, return_tensors='pt', padding=True, truncation=True, max_length=128)\n",
    "#     with torch.no_grad():\n",
    "#         outputs = model(**inputs)\n",
    "#     return outputs.last_hidden_state.mean(dim=1).numpy()\n",
    "\n",
    "# # Get embeddings for all texts in the dataset\n",
    "# text_embeddings = get_embeddings(augmented_data['lemmatized_text'].tolist(), tokenizer, model)\n",
    "\n",
    "# # Convert emojis to one-hot vectors\n",
    "# emoji_set = set(''.join(augmented_data['emojis'].tolist()))\n",
    "# emoji_dict = {e: i for i, e in enumerate(emoji_set)}\n",
    "\n",
    "# def get_emoji_embeddings(emojis, emoji_dict, length):\n",
    "#     embeddings = np.zeros((len(emojis), length))\n",
    "#     for i, emoji_str in enumerate(emojis):\n",
    "#         for char in emoji_str:\n",
    "#             if char in emoji_dict:\n",
    "#                 embeddings[i, emoji_dict[char]] = 1\n",
    "#     return embeddings\n",
    "\n",
    "# emoji_embeddings = get_emoji_embeddings(augmented_data['emojis'].tolist(), emoji_dict, len(emoji_dict))\n",
    "\n",
    "# # Combine text and emoji embeddings\n",
    "# combined_embeddings = np.concatenate((text_embeddings, emoji_embeddings), axis=1)\n",
    "\n",
    "# # Convert embeddings to DataFrame and add labels\n",
    "# embeddings_df = pd.DataFrame(combined_embeddings)\n",
    "# embeddings_df['Sentiment'] = augmented_data['Sentiment'].values\n",
    "\n",
    "# # Split data into training and test sets\n",
    "# X_train, X_test, y_train, y_test = train_test_split(embeddings_df.drop(columns=['Sentiment']), embeddings_df['Sentiment'], test_size=0.2, random_state=42)\n",
    "\n",
    "# # Train Random Forest using Grid Search to find the best parameters\n",
    "# param_grid = {\n",
    "#     'n_estimators': [100, 200, 300],\n",
    "#     'max_depth': [10, 20, 30],\n",
    "#     'min_samples_split': [2, 5, 10],\n",
    "#     'min_samples_leaf': [1, 2, 4]\n",
    "# }\n",
    "# rf = RandomForestClassifier(random_state=42)\n",
    "# grid_search = GridSearchCV(estimator=rf, param_grid=param_grid, cv=3, n_jobs=-1, verbose=2)\n",
    "# grid_search.fit(X_train, y_train)\n",
    "\n",
    "# # Predict on test set\n",
    "# y_pred = grid_search.best_estimator_.predict(X_test)\n",
    "\n",
    "# # Calculate metrics\n",
    "# accuracy = accuracy_score(y_test, y_pred)\n",
    "# precision, recall, f1, _ = precision_recall_fscore_support(y_test, y_pred, average='macro')\n",
    "# conf_matrix = confusion_matrix(y_test, y_pred)\n",
    "\n",
    "# # Print metrics\n",
    "# print(f\"Accuracy: {accuracy}\")\n",
    "# print(f\"Precision: {precision}\")\n",
    "# print(f\"Recall: {recall}\")\n",
    "# print(f\"F1 Score: {f1}\")\n",
    "# print(\"Confusion Matrix:\")\n",
    "# print(conf_matrix)"
   ]
  },
  {
   "attachments": {},
   "cell_type": "markdown",
   "metadata": {},
   "source": [
    "# Siamese Neural Network"
   ]
  },
  {
   "cell_type": "code",
   "execution_count": 130,
   "metadata": {},
   "outputs": [
    {
     "name": "stdout",
     "output_type": "stream",
     "text": [
      "(2468, 600) (617, 600) (2468,) (617,)\n",
      "NaNs in X_train: 0 NaNs in X_test: 0\n",
      "Infs in X_train: 0 Infs in X_test: 0\n",
      "Creating triplets...\n",
      "Triplets created in 0.07 seconds\n",
      "\n",
      "Epoch 1/3\n",
      "\u001b[1m62/62\u001b[0m \u001b[32m━━━━━━━━━━━━━━━━━━━━\u001b[0m\u001b[37m\u001b[0m \u001b[1m5s\u001b[0m 63ms/step - loss: 0.1361 - val_loss: 0.1117\n",
      "Epoch 2/3\n",
      "\u001b[1m62/62\u001b[0m \u001b[32m━━━━━━━━━━━━━━━━━━━━\u001b[0m\u001b[37m\u001b[0m \u001b[1m4s\u001b[0m 66ms/step - loss: 0.0409 - val_loss: 0.1071\n",
      "Epoch 3/3\n",
      "\u001b[1m62/62\u001b[0m \u001b[32m━━━━━━━━━━━━━━━━━━━━\u001b[0m\u001b[37m\u001b[0m \u001b[1m5s\u001b[0m 79ms/step - loss: 0.0332 - val_loss: 0.0979\n"
     ]
    }
   ],
   "source": [
    "import numpy as np\n",
    "import tensorflow as tf\n",
    "from tensorflow.keras.layers import Input, Dense, Lambda, Reshape, Conv1D, BatchNormalization, Flatten\n",
    "from tensorflow.keras.models import Model\n",
    "from tensorflow.keras.optimizers import Adam, SGD, Nadam, Adagrad\n",
    "from tensorflow.keras import backend as K\n",
    "from sklearn.metrics import accuracy_score, precision_score, recall_score, f1_score, confusion_matrix\n",
    "from scipy.spatial.distance import cosine\n",
    "import time\n",
    "import pickle\n",
    "\n",
    "class SiameseNeuralNetwork:\n",
    "    def __init__(self, input_dim, learning_rate=0.01):\n",
    "        self.input_dim = input_dim\n",
    "        self.learning_rate = learning_rate\n",
    "        self.model, self.embedding_model = self.build_model()\n",
    "        \n",
    "    def build_model(self):\n",
    "        input_shape = (self.input_dim,)\n",
    "        input_anchor = Input(shape=input_shape, name=\"anchor\")\n",
    "        input_positive = Input(shape=input_shape, name=\"positive\")\n",
    "        input_negative = Input(shape=input_shape, name=\"negative\")\n",
    "        \n",
    "        # Reshape the input to add the time dimension\n",
    "        reshape_layer = Reshape((self.input_dim, 1))\n",
    "        \n",
    "        # Shared convolutional layers\n",
    "        conv_layer1 = Conv1D(64, kernel_size=3, activation='relu')\n",
    "        conv_layer2 = Conv1D(32, kernel_size=3, activation='relu')\n",
    "        flatten_layer = Flatten()\n",
    "        dense_layer = Dense(150, activation='relu', kernel_initializer='he_normal')\n",
    "        \n",
    "        def process_input(input_data):\n",
    "            reshaped_input = reshape_layer(input_data)\n",
    "            conv_output1 = conv_layer1(reshaped_input)\n",
    "            conv_output2 = conv_layer2(conv_output1)\n",
    "            flattened_output = flatten_layer(conv_output2)\n",
    "            dense_output = dense_layer(flattened_output)\n",
    "            return dense_output\n",
    "        \n",
    "        # Processing anchor\n",
    "        dense_anchor = process_input(input_anchor)\n",
    "        \n",
    "        # Processing positive\n",
    "        dense_positive = process_input(input_positive)\n",
    "        \n",
    "        # Processing negative\n",
    "        dense_negative = process_input(input_negative)\n",
    "        \n",
    "        # Stack to form the output\n",
    "        outputs = Lambda(lambda x: K.stack(x, axis=1))([dense_anchor, dense_positive, dense_negative])\n",
    "        \n",
    "        model = Model(inputs=[input_anchor, input_positive, input_negative], outputs=outputs)\n",
    "        \n",
    "        # Creating the embedding model\n",
    "        embedding_model = Model(inputs=input_anchor, outputs=dense_anchor)\n",
    "        \n",
    "        optimizer = Adagrad()\n",
    "        model.compile(loss=self.triplet_loss, optimizer=optimizer)\n",
    "        \n",
    "        return model, embedding_model\n",
    "\n",
    "    def triplet_loss(self, y_true, y_pred, alpha=0.1):\n",
    "        anchor, positive, negative = y_pred[:, 0], y_pred[:, 1], y_pred[:, 2]\n",
    "        pos_dist = K.sum(K.square(anchor - positive), axis=1)\n",
    "        neg_dist = K.sum(K.square(anchor - negative), axis=1)\n",
    "        loss = K.mean(K.maximum(pos_dist - neg_dist + alpha, 0.0))\n",
    "        return loss\n",
    "    \n",
    "    def create_triplets(self, X, y):\n",
    "        triplets = []\n",
    "        labels = []  # This is just a placeholder and not used in training\n",
    "        unique_classes = np.unique(y)\n",
    "        class_indices = {cls: np.where(y == cls)[0] for cls in unique_classes}\n",
    "        \n",
    "        for cls in unique_classes:\n",
    "            class_idx = class_indices[cls]\n",
    "            for i in range(len(class_idx)):\n",
    "                anchor_idx = class_idx[i]\n",
    "                pos_idx = np.random.choice(class_idx)\n",
    "                \n",
    "                neg_cls = np.random.choice(unique_classes[unique_classes != cls])\n",
    "                neg_idx = np.random.choice(class_indices[neg_cls])\n",
    "                \n",
    "                triplets.append([X[anchor_idx], X[pos_idx], X[neg_idx]])\n",
    "                labels.append([1, 0])  # Placeholder\n",
    "        \n",
    "        return np.array(triplets), np.array(labels)\n",
    "    \n",
    "    def fit(self, X_train, y_train, batch_size=32, epochs=10, validation_split=0.2):\n",
    "        X_train = np.array(X_train)\n",
    "        y_train = np.array(y_train)\n",
    "\n",
    "        start_time = time.time()\n",
    "        print(\"Creating triplets...\")\n",
    "        X_train_triplets, y_train_triplets = self.create_triplets(X_train, y_train)\n",
    "        pair_time = time.time()\n",
    "        print(f\"Triplets created in {pair_time - start_time:.2f} seconds\\n\")\n",
    "        \n",
    "        X_train_anchor = np.array([triplet[0] for triplet in X_train_triplets])\n",
    "        X_train_positive = np.array([triplet[1] for triplet in X_train_triplets])\n",
    "        X_train_negative = np.array([triplet[2] for triplet in X_train_triplets])\n",
    "        \n",
    "        self.model.fit(\n",
    "            [X_train_anchor, X_train_positive, X_train_negative], y_train_triplets, \n",
    "            batch_size=batch_size, \n",
    "            epochs=epochs, \n",
    "            validation_split=validation_split,\n",
    "            verbose=1\n",
    "        )\n",
    "    \n",
    "    def get_embeddings(self, X):\n",
    "        return self.embedding_model.predict(X)\n",
    "\n",
    "        \n",
    "\n",
    "# Load the preprocessed data\n",
    "with open('ADVB data/preprocessed_data.pkl', 'rb') as file:\n",
    "    X_train, X_test, y_train, y_test = pickle.load(file)\n",
    "\n",
    "# Verify the loaded data\n",
    "print(X_train.shape, X_test.shape, y_train.shape, y_test.shape)\n",
    "\n",
    "# Check and normalize data\n",
    "print(\"NaNs in X_train:\", np.isnan(X_train).sum(), \"NaNs in X_test:\", np.isnan(X_test).sum())\n",
    "print(\"Infs in X_train:\", np.isinf(X_train).sum(), \"Infs in X_test:\", np.isinf(X_test).sum())\n",
    "\n",
    "X_train = (X_train - np.mean(X_train, axis=0)) / np.std(X_train, axis=0)\n",
    "X_test = (X_test - np.mean(X_test, axis=0)) / np.std(X_test, axis=0)\n",
    "\n",
    "# Parameters\n",
    "input_dim = 600 # Example input dimension\n",
    "\n",
    "# Initialize the SimpleSiameseModel class\n",
    "siamese_model = SiameseNeuralNetwork(input_dim)\n",
    "\n",
    "# Train the model with validation split\n",
    "siamese_model.fit(X_train, y_train, batch_size=32, epochs=3, validation_split=0.2)\n",
    "\n",
    "# siamese_model.embedding_model.save('best_model.keras')"
   ]
  },
  {
   "cell_type": "code",
   "execution_count": 131,
   "metadata": {},
   "outputs": [
    {
     "name": "stdout",
     "output_type": "stream",
     "text": [
      "\u001b[1m20/20\u001b[0m \u001b[32m━━━━━━━━━━━━━━━━━━━━\u001b[0m\u001b[37m\u001b[0m \u001b[1m0s\u001b[0m 8ms/step\n",
      "Accuracy: 0.7812\n",
      "Precision: 0.8086\n",
      "Recall: 0.7812\n",
      "F1 Score: 0.7855\n",
      "Confusion Matrix:\n",
      "[[144   0  14  11]\n",
      " [ 25 121   4  10]\n",
      " [ 21   1 114   3]\n",
      " [ 39   2   5 103]]\n"
     ]
    }
   ],
   "source": [
    "from tensorflow.keras.models import load_model\n",
    "\n",
    "# Load the embedding model\n",
    "embedding_model = load_model('ADVB data/best_model.keras')\n",
    "\n",
    "\n",
    "X_test = np.array(X_test)\n",
    "y_test = np.array(y_test)\n",
    "\n",
    "unique_classes = np.unique(y_test)\n",
    "class_indices = {cls: np.where(y_test == cls)[0] for cls in unique_classes}\n",
    "\n",
    "embeddings_test = embedding_model.predict(X_test)\n",
    "\n",
    "y_pred = []\n",
    "for i in range(len(X_test)):\n",
    "    similarities = []\n",
    "    for cls in unique_classes:\n",
    "        class_embed = embeddings_test[class_indices[cls]]\n",
    "        mean_embed = np.mean(class_embed, axis=0)\n",
    "        similarity = 1 - cosine(mean_embed, embeddings_test[i])\n",
    "        similarities.append(similarity)\n",
    "    y_pred.append(unique_classes[np.argmax(similarities)])\n",
    "\n",
    "accuracy = accuracy_score(y_test, y_pred)\n",
    "precision = precision_score(y_test, y_pred, average='weighted')\n",
    "recall = recall_score(y_test, y_pred, average='weighted')\n",
    "f1 = f1_score(y_test, y_pred, average='weighted')\n",
    "conf_matrix = confusion_matrix(y_test, y_pred)\n",
    "\n",
    "print(f'Accuracy: {accuracy:.4f}')\n",
    "print(f'Precision: {precision:.4f}')\n",
    "print(f'Recall: {recall:.4f}')\n",
    "print(f'F1 Score: {f1:.4f}')\n",
    "print('Confusion Matrix:')\n",
    "print(conf_matrix)"
   ]
  },
  {
   "cell_type": "markdown",
   "metadata": {},
   "source": [
    "# Word Importance for sNN model"
   ]
  },
  {
   "cell_type": "code",
   "execution_count": 136,
   "metadata": {},
   "outputs": [
    {
     "name": "stdout",
     "output_type": "stream",
     "text": [
      "\u001b[1m78/78\u001b[0m \u001b[32m━━━━━━━━━━━━━━━━━━━━\u001b[0m\u001b[37m\u001b[0m \u001b[1m1s\u001b[0m 9ms/step\n",
      "\u001b[1m1/1\u001b[0m \u001b[32m━━━━━━━━━━━━━━━━━━━━\u001b[0m\u001b[37m\u001b[0m \u001b[1m0s\u001b[0m 18ms/step\n"
     ]
    },
    {
     "data": {
      "image/png": "[encoded data removed]",
      "text/plain": [
       "<Figure size 700x500 with 1 Axes>"
      ]
     },
     "metadata": {},
     "output_type": "display_data"
    },
    {
     "name": "stdout",
     "output_type": "stream",
     "text": [
      "Predicted class for the [@r0yaltantrum @shovelwill bruh moment 😭]: 0, original class: 0\n"
     ]
    }
   ],
   "source": [
    "import numpy as np\n",
    "import tensorflow as tf\n",
    "from scipy.spatial.distance import cosine\n",
    "import matplotlib.pyplot as plt\n",
    "\n",
    "class WordImportanceSiameseNN:\n",
    "    def __init__(self, siamese_model, X_train, y_train, data):\n",
    "        self.siamese_model = siamese_model\n",
    "        self.X_train = X_train\n",
    "        self.y_train = y_train\n",
    "        self.data = data\n",
    "        \n",
    "        # Extract embeddings for training data\n",
    "        self.embeddings_train = self.siamese_model.get_embeddings(X_train)\n",
    "        \n",
    "        # Compute class embeddings (mean embedding for each class from training data)\n",
    "        self.class_indices = {cls: np.where(y_train == cls)[0] for cls in np.unique(y_train)}\n",
    "        self.class_embeddings = {cls: np.mean(self.embeddings_train[self.class_indices[cls]], axis=0) for cls in np.unique(y_train)}\n",
    "\n",
    "    def compute_word_importance(self, model, input_data, class_embedding):\n",
    "        input_data = tf.convert_to_tensor(input_data, dtype=tf.float32)\n",
    "        class_embedding = tf.convert_to_tensor(class_embedding, dtype=tf.float32)\n",
    "        with tf.GradientTape() as tape:\n",
    "            tape.watch(input_data)\n",
    "            embeddings = model(input_data, training=False)\n",
    "            similarity_score = 1 - tf.keras.losses.cosine_similarity(class_embedding, embeddings)\n",
    "        grads = tape.gradient(similarity_score, input_data)\n",
    "        return tf.reduce_mean(tf.abs(grads), axis=0).numpy()\n",
    "\n",
    "    def predict_single_class(self, embedding_model, sample, unique_classes, class_embeddings):\n",
    "        sample_embedding = embedding_model.predict(np.array([sample]))[0]\n",
    "        similarities = []\n",
    "        for cls in unique_classes:\n",
    "            mean_embed = class_embeddings[cls]\n",
    "            similarity = 1 - cosine(mean_embed, sample_embedding)\n",
    "            similarities.append(similarity)\n",
    "        predicted_class = unique_classes[np.argmax(similarities)]\n",
    "        return predicted_class\n",
    "\n",
    "    def get_contributions(self, importance_scores, combined_list):\n",
    "        contributions = {item: importance for item, importance in zip(combined_list, importance_scores) if item in combined_list}\n",
    "        return contributions\n",
    "\n",
    "    def plot_importance(self, top_contributions, predicted_class):\n",
    "        fig, ax = plt.subplots(figsize=(7, 5))\n",
    "        top_items, top_scores = zip(*top_contributions)\n",
    "        ax.bar(top_items, top_scores)\n",
    "        ax.set_xlabel('Words/Emojis')\n",
    "        ax.set_ylabel('Importance Score')\n",
    "        ax.set_title(f'Top 10 Word/Emoji Importance for Predicted Class {predicted_class}')\n",
    "        ax.tick_params(axis='x', rotation=90)\n",
    "        plt.tight_layout()\n",
    "        plt.show()\n",
    "\n",
    "    def analyze_sample(self, index):\n",
    "        # Prepare the sample\n",
    "        for_text = np.vstack(self.data['text_embeddings'].iloc[index:index+1])\n",
    "        for_emoji = np.vstack(self.data['emoji_embeddings'].iloc[index:index+1])\n",
    "        first_sample = np.hstack((for_text, for_emoji))\n",
    "        \n",
    "        # Compute importance scores for the sample\n",
    "        importance_scores_per_class = {}\n",
    "        for cls in np.unique(self.y_train):\n",
    "            importance_scores_per_class[cls] = self.compute_word_importance(\n",
    "                self.siamese_model.embedding_model, first_sample, self.class_embeddings[cls]\n",
    "            )\n",
    "        \n",
    "        # Predict the class for the sample\n",
    "        predicted_class = self.predict_single_class(self.siamese_model.embedding_model, first_sample[0], np.unique(self.y_train), self.class_embeddings)\n",
    "        \n",
    "        # Prepare words and emojis for plotting\n",
    "        sample_words = self.data['lemmatized_text'].iloc[index].split()\n",
    "        sample_emojis = self.data['emojis'].iloc[index]\n",
    "        sample_combined = sample_words + list(sample_emojis)\n",
    "        \n",
    "        # Compute contributions\n",
    "        contributions_per_class = {}\n",
    "        for cls in np.unique(self.y_train):\n",
    "            contributions_per_class[cls] = self.get_contributions(importance_scores_per_class[cls], sample_combined)\n",
    "        \n",
    "        # Get top contributions for the predicted class\n",
    "        sorted_contributions = sorted(contributions_per_class[predicted_class].items(), key=lambda item: item[1], reverse=True)\n",
    "        top_contributions = sorted_contributions[:10]\n",
    "        \n",
    "        # Plot importance\n",
    "        self.plot_importance(top_contributions, predicted_class)\n",
    "        \n",
    "        # Print the predicted class\n",
    "        print(f\"Predicted class for the [{self.data['Text'].iloc[index]}]: {predicted_class}, original class: {self.data['Sentiment'].iloc[index]}\")\n",
    "\n",
    "classifier = WordImportanceSiameseNN(siamese_model, X_train, y_train, data)\n",
    "classifier.analyze_sample(1)"
   ]
  },
  {
   "cell_type": "code",
   "execution_count": null,
   "metadata": {},
   "outputs": [],
   "source": []
  }
 ],
 "metadata": {
  "colab": {
   "provenance": []
  },
  "kernelspec": {
   "display_name": "Python 3 (ipykernel)",
   "language": "python",
   "name": "python3"
  },
  "language_info": {
   "codemirror_mode": {
    "name": "ipython",
    "version": 3
   },
   "file_extension": ".py",
   "mimetype": "text/x-python",
   "name": "python",
   "nbconvert_exporter": "python",
   "pygments_lexer": "ipython3",
   "version": "3.11.1"
  }
 },
 "nbformat": 4,
 "nbformat_minor": 1
}
